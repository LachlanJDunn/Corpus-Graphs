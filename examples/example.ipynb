{
  "nbformat": 4,
  "nbformat_minor": 0,
  "metadata": {
    "colab": {
      "name": "example.ipynb",
      "provenance": []
    },
    "kernelspec": {
      "name": "python3",
      "display_name": "Python 3"
    },
    "language_info": {
      "name": "python"
    },
    "accelerator": "GPU",
    "gpuClass": "standard"
  },
  "cells": [
    {
      "cell_type": "code",
      "execution_count": null,
      "metadata": {
        "id": "lNcpI7Eof_92"
      },
      "outputs": [],
      "source": [
        "# install dependencies\n",
        "!pip install -q --upgrade git+https://github.com/terrierteam/pyterrier_adaptive.git\n",
        "!pip install -q --upgrade git+https://github.com/terrierteam/pyterrier_t5.git\n",
        "!pip install -q pyterrier_pisa"
      ]
    },
    {
      "cell_type": "code",
      "source": [
        "# imports\n",
        "import pyterrier as pt\n",
        "pt.init()\n",
        "from pyterrier.measures import *\n",
        "from pyterrier_adaptive import GAR, CorpusGraph\n",
        "from pyterrier_t5 import MonoT5ReRanker\n",
        "from pyterrier_pisa import PisaIndex"
      ],
      "metadata": {
        "id": "S35aBIbzgKAV"
      },
      "execution_count": null,
      "outputs": []
    },
    {
      "cell_type": "code",
      "source": [
        "# Create required components\n",
        "dataset = pt.get_dataset('irds:msmarco-passage')\n",
        "retriever = PisaIndex.from_dataset('msmarco_passage').bm25()\n",
        "scorer = pt.text.get_text(dataset, 'text') >> MonoT5ReRanker(verbose=False, batch_size=16)\n",
        "graph = CorpusGraph.from_dataset('msmarco_passage', 'corpusgraph_bm25_k16').to_limit_k(8)"
      ],
      "metadata": {
        "id": "b5odYh1PgWZb"
      },
      "execution_count": null,
      "outputs": []
    },
    {
      "cell_type": "code",
      "source": [
        "# A simple example\n",
        "pipeline = retriever >> GAR(scorer, graph) >> pt.text.get_text(dataset, 'text')\n",
        "\n",
        "pipeline.search('clustering hypothesis information retrieval')"
      ],
      "metadata": {
        "id": "GHRjyAO4gZ8y"
      },
      "execution_count": null,
      "outputs": []
    },
    {
      "cell_type": "code",
      "source": [
        "dataset = pt.get_dataset('irds:msmarco-passage/trec-dl-2019/judged')\n",
        "pt.Experiment(\n",
        "    [retriever, retriever >> scorer, retriever >> GAR(scorer, graph)],\n",
        "    dataset.get_topics(),\n",
        "    dataset.get_qrels(),\n",
        "    [nDCG, MAP(rel=2), R(rel=2)@1000],\n",
        "    names=['bm25', 'bm25 >> monot5', 'bm25 >> GAR(monot5)']\n",
        ")"
      ],
      "metadata": {
        "id": "lrYhzEk9gdDO"
      },
      "execution_count": null,
      "outputs": []
    },
    {
      "cell_type": "code",
      "source": [
        ""
      ],
      "metadata": {
        "id": "d-C7AkFkgzcH"
      },
      "execution_count": null,
      "outputs": []
    }
  ]
}